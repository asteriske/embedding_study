{
 "cells": [
  {
   "cell_type": "code",
   "execution_count": 1,
   "metadata": {},
   "outputs": [],
   "source": [
    "import json\n",
    "import os\n",
    "import pandas as pd\n",
    "from plotnine import *"
   ]
  },
  {
   "cell_type": "code",
   "execution_count": 2,
   "metadata": {},
   "outputs": [],
   "source": [
    "METRICS_DIR = '/home/pmccarthy/projects/embedding_study/metrics'"
   ]
  },
  {
   "cell_type": "code",
   "execution_count": 3,
   "metadata": {},
   "outputs": [
    {
     "name": "stdout",
     "output_type": "stream",
     "text": [
      " 93bebc15e98df1fc5eab83cc89ef1090f7b98c3e_add_first_pass_at_testing_code\r\n",
      "'c8e0ce636881157d4da79a124cc17d9ba290546f__*_Add_param_to_config.py_allowing_for_a_config_file_to_be_supplied_rather_than_expected__*_add_a_run_to_the_config_in_which_gensim_runs_with_defaults_except_with_a_max_vocab_of_4096.'\r\n",
      " e2fb120c7fb4fb6b3b377c85ad051cdd368ea573_add_param_to_limit_gensim_sequence_length\r\n"
     ]
    }
   ],
   "source": [
    "! ls {METRICS_DIR}"
   ]
  },
  {
   "cell_type": "code",
   "execution_count": 4,
   "metadata": {},
   "outputs": [],
   "source": [
    "def read_single(obj, filename):\n",
    "    df_obj = {}\n",
    "    similarities = {}\n",
    "    \n",
    "    for k in obj.keys():\n",
    "        \n",
    "        if 'similarity' in k:\n",
    "            similarities[k] = pd.DataFrame(obj[k])\n",
    "            \n",
    "    \n",
    "        elif k == 'benchmarks':\n",
    "            benchmarks = pd.DataFrame(obj[k]).assign(filename = filename)\n",
    "            \n",
    "    df_obj['similarities'] = pd.concat(similarities)\n",
    "    df_obj['benchmarks'] = benchmarks\n",
    "    df_obj['filename'] = filename\n",
    "    return df_obj"
   ]
  },
  {
   "cell_type": "code",
   "execution_count": 5,
   "metadata": {},
   "outputs": [
    {
     "name": "stdout",
     "output_type": "stream",
     "text": [
      "e2fb120c7fb4fb6b3b377c85ad051cdd368ea573_add_param_to_limit_gensim_sequence_length\n",
      "93bebc15e98df1fc5eab83cc89ef1090f7b98c3e_add_first_pass_at_testing_code\n",
      "c8e0ce636881157d4da79a124cc17d9ba290546f__*_Add_param_to_config.py_allowing_for_a_config_file_to_be_supplied_rather_than_expected__*_add_a_run_to_the_config_in_which_gensim_runs_with_defaults_except_with_a_max_vocab_of_4096.\n"
     ]
    }
   ],
   "source": [
    "metrics = {}\n",
    "runs = os.listdir(METRICS_DIR)\n",
    "\n",
    "for dirname in runs:\n",
    "    print(dirname)\n",
    "    metrics[dirname] = {}\n",
    "    \n",
    "    for file in os.listdir(os.path.join(METRICS_DIR,dirname)):\n",
    "        file_path = os.path.join(METRICS_DIR,dirname,file)\n",
    "        with open(file_path,'r') as f:\n",
    "            file_name = \".\".join(file.split('.')[:-1])\n",
    "            metrics[dirname][file] = read_single(json.loads(json.load(f)), file_name)\n"
   ]
  },
  {
   "cell_type": "code",
   "execution_count": 11,
   "metadata": {},
   "outputs": [],
   "source": [
    "metrics = {list(metrics.keys())[0]: metrics[list(metrics.keys())[0]]}"
   ]
  },
  {
   "cell_type": "code",
   "execution_count": 16,
   "metadata": {},
   "outputs": [
    {
     "data": {
      "text/plain": [
       "dict_keys(['gensim_max_final_vocab_4096_20210115T141520792849.json', 'gensim_default_20210115T141520792849.json', 'gensim_max_final_vocab_4096_len_10_20210115T141520792849.json'])"
      ]
     },
     "execution_count": 16,
     "metadata": {},
     "output_type": "execute_result"
    }
   ],
   "source": [
    "metrics['e2fb120c7fb4fb6b3b377c85ad051cdd368ea573_add_param_to_limit_gensim_sequence_length'].keys()"
   ]
  },
  {
   "cell_type": "code",
   "execution_count": 17,
   "metadata": {},
   "outputs": [
    {
     "name": "stdout",
     "output_type": "stream",
     "text": [
      "|    | test       | metric       |     value |   metric_rank | short_name                         |\n",
      "|---:|:-----------|:-------------|----------:|--------------:|:-----------------------------------|\n",
      "|  0 | wordsim353 | pearson_cor  | 0.653465  |             1 | gensim_max_final_vocab_4096        |\n",
      "|  1 | wordsim353 | spearman_cor | 0.671694  |             1 | gensim_max_final_vocab_4096        |\n",
      "|  4 | google     | accuracy     | 0.525768  |             1 | gensim_max_final_vocab_4096        |\n",
      "|  2 | simlex999  | pearson_cor  | 0.286941  |             1 | gensim_default                     |\n",
      "|  3 | simlex999  | spearman_cor | 0.269803  |             1 | gensim_default                     |\n",
      "|  2 | simlex999  | pearson_cor  | 0.220757  |             2 | gensim_max_final_vocab_4096        |\n",
      "|  3 | simlex999  | spearman_cor | 0.227256  |             2 | gensim_max_final_vocab_4096        |\n",
      "|  0 | wordsim353 | pearson_cor  | 0.59368   |             2 | gensim_default                     |\n",
      "|  1 | wordsim353 | spearman_cor | 0.610681  |             2 | gensim_default                     |\n",
      "|  4 | google     | accuracy     | 0.188023  |             2 | gensim_default                     |\n",
      "|  0 | wordsim353 | pearson_cor  | 0.355266  |             3 | gensim_max_final_vocab_4096_len_10 |\n",
      "|  1 | wordsim353 | spearman_cor | 0.383025  |             3 | gensim_max_final_vocab_4096_len_10 |\n",
      "|  2 | simlex999  | pearson_cor  | 0.141328  |             3 | gensim_max_final_vocab_4096_len_10 |\n",
      "|  3 | simlex999  | spearman_cor | 0.136659  |             3 | gensim_max_final_vocab_4096_len_10 |\n",
      "|  4 | google     | accuracy     | 0.0567879 |             3 | gensim_max_final_vocab_4096_len_10 |\n"
     ]
    }
   ],
   "source": [
    "benchmarks = []\n",
    "\n",
    "for dirname in metrics.keys():\n",
    "    for file in metrics[dirname]:\n",
    "        benchmarks.append(metrics[dirname][file]['benchmarks'])\n",
    "\n",
    "benchmark_df =(\n",
    "    pd.concat(benchmarks)\n",
    "    .assign(metric_rank = lambda x: x.groupby(['test','metric'])['value'].rank(ascending=False))\n",
    "    .sort_values('metric_rank')    \n",
    "    .assign(short_name = lambda x: x['filename'].str.split('_').apply(lambda y: \"_\".join([z for z in y[:-1]])))\n",
    "    .drop('filename',axis=1)\n",
    ")\n",
    "print(benchmark_df.to_markdown())\n"
   ]
  },
  {
   "cell_type": "code",
   "execution_count": 18,
   "metadata": {},
   "outputs": [
    {
     "data": {
      "image/png": "[encoded data removed]",
      "text/plain": [
       "<Figure size 640x480 with 5 Axes>"
      ]
     },
     "metadata": {},
     "output_type": "display_data"
    },
    {
     "data": {
      "text/plain": [
       "<ggplot: (8743686589349)>"
      ]
     },
     "execution_count": 18,
     "metadata": {},
     "output_type": "execute_result"
    }
   ],
   "source": [
    "(\n",
    "    ggplot(benchmark_df, aes(x='short_name',y='value', fill='short_name'))\n",
    "    + geom_bar(stat='identity')\n",
    "    + facet_wrap(['test','metric'])\n",
    "    + labs(fill=\"Test\",x=\"\",y=\"Metric Value (higher is better)\")\n",
    "    + theme(axis_text_x=element_blank())\n",
    ")"
   ]
  },
  {
   "cell_type": "code",
   "execution_count": 19,
   "metadata": {},
   "outputs": [],
   "source": [
    "similarities = []\n",
    "for dirname in metrics.keys():\n",
    "    for file in metrics[dirname]:\n",
    "        file_shortname = \"_\".join(file.split('_')[:-1])\n",
    "        similarities.append(metrics[dirname][file]['similarities'].assign(file=file_shortname))"
   ]
  },
  {
   "cell_type": "code",
   "execution_count": 20,
   "metadata": {},
   "outputs": [
    {
     "data": {
      "text/html": [
       "<div>\n",
       "<style scoped>\n",
       "    .dataframe tbody tr th:only-of-type {\n",
       "        vertical-align: middle;\n",
       "    }\n",
       "\n",
       "    .dataframe tbody tr th {\n",
       "        vertical-align: top;\n",
       "    }\n",
       "\n",
       "    .dataframe thead tr th {\n",
       "        text-align: left;\n",
       "    }\n",
       "\n",
       "    .dataframe thead tr:last-of-type th {\n",
       "        text-align: right;\n",
       "    }\n",
       "</style>\n",
       "<table border=\"1\" class=\"dataframe\">\n",
       "  <thead>\n",
       "    <tr>\n",
       "      <th></th>\n",
       "      <th></th>\n",
       "      <th colspan=\"4\" halign=\"left\">word</th>\n",
       "    </tr>\n",
       "    <tr>\n",
       "      <th></th>\n",
       "      <th>test</th>\n",
       "      <th>boat_similarity</th>\n",
       "      <th>december_similarity</th>\n",
       "      <th>french_similarity</th>\n",
       "      <th>street_similarity</th>\n",
       "    </tr>\n",
       "    <tr>\n",
       "      <th>file</th>\n",
       "      <th>rank</th>\n",
       "      <th></th>\n",
       "      <th></th>\n",
       "      <th></th>\n",
       "      <th></th>\n",
       "    </tr>\n",
       "  </thead>\n",
       "  <tbody>\n",
       "    <tr>\n",
       "      <th rowspan=\"4\" valign=\"top\">gensim_default</th>\n",
       "      <th>0</th>\n",
       "      <td>boats</td>\n",
       "      <td>november</td>\n",
       "      <td>italian</td>\n",
       "      <td>avenue</td>\n",
       "    </tr>\n",
       "    <tr>\n",
       "      <th>1</th>\n",
       "      <td>crew</td>\n",
       "      <td>february</td>\n",
       "      <td>german</td>\n",
       "      <td>piccadilly</td>\n",
       "    </tr>\n",
       "    <tr>\n",
       "      <th>2</th>\n",
       "      <td>steamer</td>\n",
       "      <td>june</td>\n",
       "      <td>dutch</td>\n",
       "      <td>road</td>\n",
       "    </tr>\n",
       "    <tr>\n",
       "      <th>3</th>\n",
       "      <td>crews</td>\n",
       "      <td>january</td>\n",
       "      <td>spanish</td>\n",
       "      <td>downtown</td>\n",
       "    </tr>\n",
       "    <tr>\n",
       "      <th rowspan=\"4\" valign=\"top\">gensim_max_final_vocab_4096</th>\n",
       "      <th>0</th>\n",
       "      <td>vessel</td>\n",
       "      <td>february</td>\n",
       "      <td>italian</td>\n",
       "      <td>avenue</td>\n",
       "    </tr>\n",
       "    <tr>\n",
       "      <th>1</th>\n",
       "      <td>ship</td>\n",
       "      <td>january</td>\n",
       "      <td>german</td>\n",
       "      <td>downtown</td>\n",
       "    </tr>\n",
       "    <tr>\n",
       "      <th>2</th>\n",
       "      <td>boats</td>\n",
       "      <td>november</td>\n",
       "      <td>dutch</td>\n",
       "      <td>streets</td>\n",
       "    </tr>\n",
       "    <tr>\n",
       "      <th>3</th>\n",
       "      <td>crew</td>\n",
       "      <td>march</td>\n",
       "      <td>spanish</td>\n",
       "      <td>road</td>\n",
       "    </tr>\n",
       "    <tr>\n",
       "      <th rowspan=\"4\" valign=\"top\">gensim_max_final_vocab_4096_len_10</th>\n",
       "      <th>0</th>\n",
       "      <td>carrier</td>\n",
       "      <td>march</td>\n",
       "      <td>russian</td>\n",
       "      <td>avenue</td>\n",
       "    </tr>\n",
       "    <tr>\n",
       "      <th>1</th>\n",
       "      <td>unit</td>\n",
       "      <td>june</td>\n",
       "      <td>german</td>\n",
       "      <td>missouri</td>\n",
       "    </tr>\n",
       "    <tr>\n",
       "      <th>2</th>\n",
       "      <td>reserve</td>\n",
       "      <td>july</td>\n",
       "      <td>spanish</td>\n",
       "      <td>hill</td>\n",
       "    </tr>\n",
       "    <tr>\n",
       "      <th>3</th>\n",
       "      <td>cruiser</td>\n",
       "      <td>april</td>\n",
       "      <td>ottoman</td>\n",
       "      <td>downtown</td>\n",
       "    </tr>\n",
       "  </tbody>\n",
       "</table>\n",
       "</div>"
      ],
      "text/plain": [
       "                                                   word                      \\\n",
       "test                                    boat_similarity december_similarity   \n",
       "file                               rank                                       \n",
       "gensim_default                     0              boats            november   \n",
       "                                   1               crew            february   \n",
       "                                   2            steamer                june   \n",
       "                                   3              crews             january   \n",
       "gensim_max_final_vocab_4096        0             vessel            february   \n",
       "                                   1               ship             january   \n",
       "                                   2              boats            november   \n",
       "                                   3               crew               march   \n",
       "gensim_max_final_vocab_4096_len_10 0            carrier               march   \n",
       "                                   1               unit                june   \n",
       "                                   2            reserve                july   \n",
       "                                   3            cruiser               april   \n",
       "\n",
       "                                                                             \n",
       "test                                    french_similarity street_similarity  \n",
       "file                               rank                                      \n",
       "gensim_default                     0              italian            avenue  \n",
       "                                   1               german        piccadilly  \n",
       "                                   2                dutch              road  \n",
       "                                   3              spanish          downtown  \n",
       "gensim_max_final_vocab_4096        0              italian            avenue  \n",
       "                                   1               german          downtown  \n",
       "                                   2                dutch           streets  \n",
       "                                   3              spanish              road  \n",
       "gensim_max_final_vocab_4096_len_10 0              russian            avenue  \n",
       "                                   1               german          missouri  \n",
       "                                   2              spanish              hill  \n",
       "                                   3              ottoman          downtown  "
      ]
     },
     "execution_count": 20,
     "metadata": {},
     "output_type": "execute_result"
    }
   ],
   "source": [
    "(\n",
    "    pd.concat(similarities)\n",
    "    .reset_index()\n",
    "    .rename(columns={'level_0':'test','level_1':'rank'})\n",
    "    .query('rank <= 3')\n",
    "    .drop('cosine_dist',axis=1)\n",
    "    .pivot(index=['file','rank'],columns='test')\n",
    ")"
   ]
  },
  {
   "cell_type": "code",
   "execution_count": null,
   "metadata": {},
   "outputs": [],
   "source": []
  }
 ],
 "metadata": {
  "kernelspec": {
   "display_name": "Embedding",
   "language": "python",
   "name": "embedding"
  },
  "language_info": {
   "codemirror_mode": {
    "name": "ipython",
    "version": 3
   },
   "file_extension": ".py",
   "mimetype": "text/x-python",
   "name": "python",
   "nbconvert_exporter": "python",
   "pygments_lexer": "ipython3",
   "version": "3.7.9"
  }
 },
 "nbformat": 4,
 "nbformat_minor": 4
}
