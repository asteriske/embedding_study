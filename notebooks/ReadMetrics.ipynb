{
 "cells": [
  {
   "cell_type": "code",
   "execution_count": 19,
   "metadata": {},
   "outputs": [],
   "source": [
    "import json\n",
    "import os\n",
    "import pandas as pd\n",
    "from plotnine import *"
   ]
  },
  {
   "cell_type": "code",
   "execution_count": 20,
   "metadata": {},
   "outputs": [],
   "source": [
    "METRICS_DIR = '/home/pmccarthy/projects/embedding_study/metrics'"
   ]
  },
  {
   "cell_type": "code",
   "execution_count": 21,
   "metadata": {},
   "outputs": [
    {
     "name": "stdout",
     "output_type": "stream",
     "text": [
      "\"51ad8085fc0d415e7bbd1a24969a9429a637f133_add_a_test_in_which_we_don't_rely_on_keras_sampling,_but_instead_perform_empirical_positive_sampling_as_Mikolov_lays_out\"\r\n",
      " 7b6ed1d57b17a7a8e7ffd6d270afd93ff245410b_add_paper-appropriate_sampling_to_google_default\r\n",
      " 93bebc15e98df1fc5eab83cc89ef1090f7b98c3e_add_first_pass_at_testing_code\r\n",
      "'c8e0ce636881157d4da79a124cc17d9ba290546f__*_Add_param_to_config.py_allowing_for_a_config_file_to_be_supplied_rather_than_expected__*_add_a_run_to_the_config_in_which_gensim_runs_with_defaults_except_with_a_max_vocab_of_4096.'\r\n",
      " e2fb120c7fb4fb6b3b377c85ad051cdd368ea573_add_param_to_limit_gensim_sequence_length\r\n"
     ]
    }
   ],
   "source": [
    "! ls {METRICS_DIR}"
   ]
  },
  {
   "cell_type": "code",
   "execution_count": 22,
   "metadata": {},
   "outputs": [],
   "source": [
    "def read_single(obj, filename):\n",
    "    df_obj = {}\n",
    "    similarities = {}\n",
    "    \n",
    "    for k in obj.keys():\n",
    "        \n",
    "        if 'similarity' in k:\n",
    "            similarities[k] = pd.DataFrame(obj[k])\n",
    "            \n",
    "    \n",
    "        elif k == 'benchmarks':\n",
    "            benchmarks = pd.DataFrame(obj[k]).assign(filename = filename)\n",
    "            \n",
    "    df_obj['similarities'] = pd.concat(similarities)\n",
    "    df_obj['benchmarks'] = benchmarks\n",
    "    df_obj['filename'] = filename\n",
    "    return df_obj"
   ]
  },
  {
   "cell_type": "code",
   "execution_count": 23,
   "metadata": {},
   "outputs": [
    {
     "name": "stdout",
     "output_type": "stream",
     "text": [
      "e2fb120c7fb4fb6b3b377c85ad051cdd368ea573_add_param_to_limit_gensim_sequence_length\n",
      "51ad8085fc0d415e7bbd1a24969a9429a637f133_add_a_test_in_which_we_don't_rely_on_keras_sampling,_but_instead_perform_empirical_positive_sampling_as_Mikolov_lays_out\n",
      "93bebc15e98df1fc5eab83cc89ef1090f7b98c3e_add_first_pass_at_testing_code\n",
      "c8e0ce636881157d4da79a124cc17d9ba290546f__*_Add_param_to_config.py_allowing_for_a_config_file_to_be_supplied_rather_than_expected__*_add_a_run_to_the_config_in_which_gensim_runs_with_defaults_except_with_a_max_vocab_of_4096.\n",
      "7b6ed1d57b17a7a8e7ffd6d270afd93ff245410b_add_paper-appropriate_sampling_to_google_default\n"
     ]
    }
   ],
   "source": [
    "metrics = {}\n",
    "runs = os.listdir(METRICS_DIR)\n",
    "\n",
    "for dirname in runs:\n",
    "    print(dirname)\n",
    "    metrics[dirname] = {}\n",
    "    \n",
    "    for file in os.listdir(os.path.join(METRICS_DIR,dirname)):\n",
    "        file_path = os.path.join(METRICS_DIR,dirname,file)\n",
    "        with open(file_path,'r') as f:\n",
    "            file_name = \".\".join(file.split('.')[:-1])\n",
    "            metrics[dirname][file] = read_single(json.loads(json.load(f)), file_name)\n"
   ]
  },
  {
   "cell_type": "code",
   "execution_count": 24,
   "metadata": {},
   "outputs": [],
   "source": [
    "metrics = {list(metrics.keys())[-1]: metrics[list(metrics.keys())[-1]]}"
   ]
  },
  {
   "cell_type": "code",
   "execution_count": 25,
   "metadata": {},
   "outputs": [
    {
     "data": {
      "text/plain": [
       "dict_keys(['7b6ed1d57b17a7a8e7ffd6d270afd93ff245410b_add_paper-appropriate_sampling_to_google_default'])"
      ]
     },
     "execution_count": 25,
     "metadata": {},
     "output_type": "execute_result"
    }
   ],
   "source": [
    "metrics.keys()"
   ]
  },
  {
   "cell_type": "code",
   "execution_count": 26,
   "metadata": {},
   "outputs": [
    {
     "name": "stdout",
     "output_type": "stream",
     "text": [
      "|    | test       | metric       |      value |   metric_rank | short_name               |\n",
      "|---:|:-----------|:-------------|-----------:|--------------:|:-------------------------|\n",
      "|  4 | google     | accuracy     | 0.188582   |             1 | gensim_default           |\n",
      "|  2 | simlex999  | pearson_cor  | 0.285163   |             1 | gensim_default           |\n",
      "|  3 | simlex999  | spearman_cor | 0.266132   |             1 | gensim_default           |\n",
      "|  0 | wordsim353 | pearson_cor  | 0.580598   |             1 | gensim_default           |\n",
      "|  1 | wordsim353 | spearman_cor | 0.594094   |             1 | gensim_default           |\n",
      "|  4 | google     | accuracy     | 0.00602047 |             3 | google_default           |\n",
      "|  2 | simlex999  | pearson_cor  | 0.103935   |             3 | google_default           |\n",
      "|  3 | simlex999  | spearman_cor | 0.101645   |             3 | google_default           |\n",
      "|  0 | wordsim353 | pearson_cor  | 0.218345   |             2 | google_default           |\n",
      "|  1 | wordsim353 | spearman_cor | 0.230898   |             2 | google_default           |\n",
      "|  4 | google     | accuracy     | 0.0469597  |             2 | google_mikolov_positives |\n",
      "|  2 | simlex999  | pearson_cor  | 0.192477   |             2 | google_mikolov_positives |\n",
      "|  3 | simlex999  | spearman_cor | 0.198362   |             2 | google_mikolov_positives |\n",
      "|  0 | wordsim353 | pearson_cor  | 0.188807   |             3 | google_mikolov_positives |\n",
      "|  1 | wordsim353 | spearman_cor | 0.221999   |             3 | google_mikolov_positives |\n"
     ]
    }
   ],
   "source": [
    "benchmarks = []\n",
    "\n",
    "for dirname in metrics.keys():\n",
    "    for file in metrics[dirname]:\n",
    "        benchmarks.append(metrics[dirname][file]['benchmarks'])\n",
    "\n",
    "benchmark_df =(\n",
    "    pd.concat(benchmarks)\n",
    "    .assign(metric_rank = lambda x: x.groupby(['test','metric'])['value'].rank(ascending=False))\n",
    "    .sort_values('metric_rank')    \n",
    "    .assign(short_name = lambda x: x['filename'].str.split('_').apply(lambda y: \"_\".join([z for z in y[:-1]])))\n",
    "    .drop('filename',axis=1)\n",
    ")\n",
    "print(benchmark_df.sort_values([\"short_name\",'test','metric']).to_markdown())\n"
   ]
  },
  {
   "cell_type": "code",
   "execution_count": 27,
   "metadata": {},
   "outputs": [
    {
     "name": "stderr",
     "output_type": "stream",
     "text": [
      "/opt/conda/envs/emb/lib/python3.7/site-packages/plotnine/facets/facet.py:552: PlotnineWarning: If you need more space for the x-axis tick text use ... + theme(subplots_adjust={'wspace': 0.25}). Choose an appropriate value for 'wspace'.\n",
      "/opt/conda/envs/emb/lib/python3.7/site-packages/plotnine/facets/facet.py:558: PlotnineWarning: If you need more space for the y-axis tick text use ... + theme(subplots_adjust={'hspace': 0.25}). Choose an appropriate value for 'hspace'\n"
     ]
    },
    {
     "data": {
      "image/png": "[encoded data removed]",
      "text/plain": [
       "<Figure size 640x480 with 5 Axes>"
      ]
     },
     "metadata": {},
     "output_type": "display_data"
    },
    {
     "data": {
      "text/plain": [
       "<ggplot: (8748391315537)>"
      ]
     },
     "execution_count": 27,
     "metadata": {},
     "output_type": "execute_result"
    }
   ],
   "source": [
    "(\n",
    "    ggplot(benchmark_df, aes(x='short_name',y='value', fill='short_name'))\n",
    "    + geom_bar(stat='identity')\n",
    "    + facet_wrap(['test','metric'], scales='free')\n",
    "    + labs(fill=\"Test\",x=\"\",y=\"Metric Value (higher is better)\")\n",
    "    + theme(axis_text_x=element_blank())\n",
    ")"
   ]
  },
  {
   "cell_type": "code",
   "execution_count": 28,
   "metadata": {},
   "outputs": [],
   "source": [
    "similarities = []\n",
    "for dirname in metrics.keys():\n",
    "    for file in metrics[dirname]:\n",
    "        file_shortname = \"_\".join(file.split('_')[:-1])\n",
    "        similarities.append(metrics[dirname][file]['similarities'].assign(file=file_shortname))"
   ]
  },
  {
   "cell_type": "code",
   "execution_count": 35,
   "metadata": {},
   "outputs": [
    {
     "name": "stdout",
     "output_type": "stream",
     "text": [
      "|                                 | ('word', 'boat_similarity')   | ('word', 'december_similarity')   | ('word', 'french_similarity')   | ('word', 'street_similarity')   |\n",
      "|:--------------------------------|:------------------------------|:----------------------------------|:--------------------------------|:--------------------------------|\n",
      "| ('gensim_default', 0)           | boats                         | november                          | italian                         | avenue                          |\n",
      "| ('gensim_default', 1)           | vessel                        | february                          | german                          | piccadilly                      |\n",
      "| ('gensim_default', 2)           | ship                          | january                           | spanish                         | meridian                        |\n",
      "| ('gensim_default', 3)           | steamer                       | march                             | dutch                           | easton                          |\n",
      "| ('google_default', 0)           | beat                          | september                         | jury                            | star                            |\n",
      "| ('google_default', 1)           | qualified                     | march                             | croatian                        | map                             |\n",
      "| ('google_default', 2)           | reserve                       | january                           | defence                         | business                        |\n",
      "| ('google_default', 3)           | u                             | july                              | persian                         | mountain                        |\n",
      "| ('google_mikolov_positives', 0) | race                          | february                          | spanish                         | hills                           |\n",
      "| ('google_mikolov_positives', 1) | reserve                       | june                              | portuguese                      | castle                          |\n",
      "| ('google_mikolov_positives', 2) | armament                      | august                            | ottoman                         | church                          |\n",
      "| ('google_mikolov_positives', 3) | link                          | january                           | turkish                         | building                        |\n"
     ]
    }
   ],
   "source": [
    "print((\n",
    "    pd.concat(similarities)\n",
    "    .reset_index()\n",
    "    .rename(columns={'level_0':'test','level_1':'rank'})\n",
    "    .query('rank <= 3')\n",
    "    .drop('cosine_dist',axis=1)\n",
    "    .pivot(index=['file','rank'],columns='test')\n",
    ").to_markdown())"
   ]
  },
  {
   "cell_type": "code",
   "execution_count": 34,
   "metadata": {},
   "outputs": [
    {
     "data": {
      "text/html": [
       "<style>.container { width:100% !important; }</style>"
      ],
      "text/plain": [
       "<IPython.core.display.HTML object>"
      ]
     },
     "metadata": {},
     "output_type": "display_data"
    }
   ],
   "source": [
    "from IPython.core.display import display, HTML\n",
    "display(HTML(\"<style>.container { width:100% !important; }</style>\"))"
   ]
  },
  {
   "cell_type": "code",
   "execution_count": null,
   "metadata": {},
   "outputs": [],
   "source": []
  }
 ],
 "metadata": {
  "kernelspec": {
   "display_name": "Embedding",
   "language": "python",
   "name": "embedding"
  },
  "language_info": {
   "codemirror_mode": {
    "name": "ipython",
    "version": 3
   },
   "file_extension": ".py",
   "mimetype": "text/x-python",
   "name": "python",
   "nbconvert_exporter": "python",
   "pygments_lexer": "ipython3",
   "version": "3.7.9"
  }
 },
 "nbformat": 4,
 "nbformat_minor": 4
}
